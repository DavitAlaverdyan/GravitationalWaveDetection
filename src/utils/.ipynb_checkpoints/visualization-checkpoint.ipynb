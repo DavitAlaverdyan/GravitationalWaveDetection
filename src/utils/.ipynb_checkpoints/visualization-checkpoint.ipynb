{
 "cells": [
  {
   "cell_type": "code",
   "execution_count": null,
   "id": "ff9e9567-f73c-4cf8-bb5f-34c2af1cbd2e",
   "metadata": {},
   "outputs": [],
   "source": [
    "import seaborn as sns\n",
    "import matplotlib.pyplot as plt\n",
    "import numpy as np\n",
    "import random\n",
    "import pandas as pd\n",
    "import warnings #Ignore Warnings\n",
    "from nnAudio.Spectrogram import CQT1992v2\n",
    "import torch \n",
    "from matplotlib.gridspec import GridSpec\n",
    "import sys\n",
    "\n",
    "warnings.filterwarnings(\"ignore\")\n",
    "sys.path.append('G:/David/DL_project/Gravitational-Wave-Detection/src/Data')\n",
    "\n",
    "from data_processing import id2path\n",
    "# from ..Data.data_processing import id2path"
   ]
  }
 ],
 "metadata": {
  "kernelspec": {
   "display_name": "Python 3 (ipykernel)",
   "language": "python",
   "name": "python3"
  },
  "language_info": {
   "codemirror_mode": {
    "name": "ipython",
    "version": 3
   },
   "file_extension": ".py",
   "mimetype": "text/x-python",
   "name": "python",
   "nbconvert_exporter": "python",
   "pygments_lexer": "ipython3",
   "version": "3.11.7"
  }
 },
 "nbformat": 4,
 "nbformat_minor": 5
}
